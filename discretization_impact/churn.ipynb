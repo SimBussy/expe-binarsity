{
 "cells": [
  {
   "cell_type": "code",
   "execution_count": 1,
   "metadata": {
    "collapsed": false
   },
   "outputs": [
    {
     "name": "stderr",
     "output_type": "stream",
     "text": [
      "/Users/Simon/Dev/anaconda/lib/python3.6/site-packages/sklearn/cross_validation.py:44: DeprecationWarning: This module was deprecated in version 0.18 in favor of the model_selection module into which all the refactored classes and functions are moved. Also note that the interface of the new CV iterators are different from that of this module. This module will be removed in 0.20.\n",
      "  \"This module will be removed in 0.20.\", DeprecationWarning)\n"
     ]
    }
   ],
   "source": [
    "import os\n",
    "import numpy as np\n",
    "import pandas as pd\n",
    "import pylab as pl\n",
    "from sys import stdout\n",
    "from time import time\n",
    "from sklearn.preprocessing import StandardScaler\n",
    "from sklearn.cross_validation import train_test_split\n",
    "from sklearn.metrics import roc_auc_score\n",
    "from tick.inference import LogisticRegression\n",
    "from tick.preprocessing import FeaturesBinarizer\n",
    "from sklearn.utils.validation import indexable\n",
    "from sklearn.model_selection import check_cv\n",
    "from sklearn.metrics.scorer import check_scoring\n",
    "from sklearn.model_selection._validation import _fit_and_score\n",
    "from sklearn.externals.joblib import Parallel, delayed\n",
    "import warnings\n",
    "warnings.filterwarnings('ignore')"
   ]
  },
  {
   "cell_type": "code",
   "execution_count": 2,
   "metadata": {
    "collapsed": false
   },
   "outputs": [
    {
     "name": "stdout",
     "output_type": "stream",
     "text": [
      "[  3   3   4   5   6   8  10  12  15  19  23  28  35  43  53  65  80  99\n",
      " 122 149]\n"
     ]
    }
   ],
   "source": [
    "filename = \"churn\"\n",
    "header = \"infer\" # None,  \"infer\"\n",
    "\n",
    "# Get the data\n",
    "os.chdir('../datasets/%s' % filename)\n",
    "df = pd.read_csv('./%s' % filename, header=header)\n",
    "K = 4\n",
    "selection = 'min' # '1st', 'min'\n",
    "verbose = True\n",
    "random_state = 0\n",
    "\n",
    "n_cuts_min = 3\n",
    "n_cuts_max = 150\n",
    "n_cuts_grid_size = 20 #20\n",
    "n_cuts_grid = np.logspace(np.log(n_cuts_min)/np.log(10), \n",
    "                          np.log(n_cuts_max)/np.log(10), \n",
    "                          n_cuts_grid_size, dtype=int)\n",
    "print(n_cuts_grid)\n",
    "n_cuts_grid = n_cuts_grid[1:]\n",
    "\n",
    "#n_cuts_grid = np.linspace(n_cuts_min, n_cuts_max, n_cuts_grid_size, dtype=int)\n",
    "\n",
    "C_grid_size = 15\n",
    "C_grid = np.logspace(1, 4, C_grid_size)\n",
    "\n",
    "n_restrict_cv = 2000"
   ]
  },
  {
   "cell_type": "code",
   "execution_count": 3,
   "metadata": {
    "collapsed": false
   },
   "outputs": [
    {
     "name": "stdout",
     "output_type": "stream",
     "text": [
      "Training:\n",
      "(2233, 19)\n",
      "Test:\n",
      "(1100, 19)\n",
      "data centered and reduced\n"
     ]
    }
   ],
   "source": [
    "def cross_val_score_(estimators, X, y=None, groups=None, scoring=None,\n",
    "                     cv=None, n_jobs=1, verbose=0, fit_params=None):\n",
    "    X, y, groups = indexable(X, y, groups)\n",
    "    cv = check_cv(cv, y, classifier=True)\n",
    "    cv_iter = list(cv.split(X, y, groups))\n",
    "\n",
    "    parallel = Parallel(n_jobs=n_jobs, verbose=0)\n",
    "\n",
    "    scores = parallel(delayed(_fit_and_score)(estimators[i], X, y,\n",
    "                                              check_scoring(estimators[i],\n",
    "                                                            scoring=scoring),\n",
    "                                              train, test, verbose, None,\n",
    "                                              fit_params)\n",
    "                      for i, (train, test) in enumerate(cv_iter))\n",
    "\n",
    "    return np.array(scores)[:, 0]\n",
    "\n",
    "\n",
    "def compute_score(clf, X, y, K, verbose=verbose, fit_params=None):\n",
    "    scores = cross_val_score_(clf, X, y, cv=K, verbose=0,\n",
    "                              n_jobs=1, scoring=\"roc_auc\",\n",
    "                              fit_params=fit_params)\n",
    "    score_mean = scores.mean()\n",
    "    score_std = 2 * scores.std()\n",
    "    if verbose:\n",
    "        print(\"\\n AUC: %0.3f (+/- %0.3f)\" % (score_mean, score_std))\n",
    "    return score_mean, score_std\n",
    "\n",
    "\n",
    "with_categorical = False\n",
    "\n",
    "# drop lines with NaN values\n",
    "df.dropna(axis=0, how='any', inplace=True)\n",
    "\n",
    "# if dataset churn: drop phone feature\n",
    "if filename == 'churn':\n",
    "    df = df.drop(df.columns[[3]], axis=1)\n",
    "\n",
    "# get label (have to be the last column!)\n",
    "idx_label_column = -1\n",
    "labels = df.iloc[:, idx_label_column]\n",
    "labels = 2 * (labels.values != labels.values[0]) - 1\n",
    "# drop it from df\n",
    "df = df.drop(df.columns[[idx_label_column]], axis=1)\n",
    "\n",
    "# shuffle and split training and test sets\n",
    "X, X_test, y, y_test = train_test_split(\n",
    "    df, labels, test_size=.33, random_state=random_state, stratify=labels)\n",
    "\n",
    "del df\n",
    "\n",
    "# get categorical features index\n",
    "cate_feat_idx = []\n",
    "for i in range(X.shape[1]):\n",
    "    feature_type = FeaturesBinarizer._detect_feature_type(X.ix[:, i])\n",
    "    if feature_type == 'discrete':\n",
    "        cate_feat_idx.append(i)\n",
    "\n",
    "feature_names_cont = list()\n",
    "for i, name in enumerate(X.columns):\n",
    "    if i not in cate_feat_idx:\n",
    "        feature_names_cont.append(name)\n",
    "\n",
    "X_cont = X.drop(X.columns[cate_feat_idx], axis=1)\n",
    "X_test_cont = X_test.drop(X_test.columns[cate_feat_idx], axis=1)\n",
    "X_cont.reset_index(drop=True, inplace=True)\n",
    "X_test_cont.reset_index(drop=True, inplace=True)\n",
    "\n",
    "print(\"Training:\")\n",
    "print(X.shape)\n",
    "print(\"Test:\")\n",
    "print(X_test.shape)\n",
    "\n",
    "# Center and reduce continuous data\n",
    "standardscaler = StandardScaler()\n",
    "X_std = pd.DataFrame(standardscaler.fit_transform(X_cont))\n",
    "X_test_std = pd.DataFrame(standardscaler.transform(X_test_cont))\n",
    "print(\"data centered and reduced\")"
   ]
  },
  {
   "cell_type": "code",
   "execution_count": 4,
   "metadata": {
    "collapsed": false,
    "scrolled": false
   },
   "outputs": [
    {
     "name": "stdout",
     "output_type": "stream",
     "text": [
      "Testing n_cuts=300\n",
      "CV Binarsity: 100%"
     ]
    },
    {
     "data": {
      "image/png": "[encoded data removed]",
      "text/plain": [
       "<matplotlib.figure.Figure at 0x111bc5fd0>"
      ]
     },
     "metadata": {},
     "output_type": "display_data"
    },
    {
     "data": {
      "image/png": "[encoded data removed]",
      "text/plain": [
       "<matplotlib.figure.Figure at 0x111bc5f98>"
      ]
     },
     "metadata": {},
     "output_type": "display_data"
    }
   ],
   "source": [
    "# logistic regression on binarized features, binarsity penalization\n",
    "model = \"Binarsity\"\n",
    "\n",
    "AUC = list()\n",
    "times = list()\n",
    "\n",
    "#for n_cuts in n_cuts_grid:\n",
    "for n_cuts in [300]:\n",
    "\n",
    "    print(\"Testing n_cuts=%s\" % n_cuts)\n",
    "    binarizer = FeaturesBinarizer(n_cuts=n_cuts)\n",
    "    binarizer.fit(pd.concat([X_cont, X_test_cont], axis=0))\n",
    "\n",
    "    X_final = X_cont.iloc[:n_restrict_cv, :]\n",
    "    X_test_final = X_test_cont.iloc[:n_restrict_cv, :]\n",
    "\n",
    "    X_bin = binarizer.transform(X_final)\n",
    "    X_test_bin = binarizer.transform(X_test_final)\n",
    "\n",
    "    # cross validation on C\n",
    "    avg_scores, score_test = np.empty(0), []\n",
    "    tmp = 0\n",
    "    for i, C_ in enumerate(C_grid):\n",
    "        tmp += 1\n",
    "        stdout.write(\"\\rCV %s: %d%%\" % (model, tmp * 100 / C_grid_size))\n",
    "        stdout.flush()\n",
    "\n",
    "        learners = [LogisticRegression(penalty='binarsity', solver='svrg', C=C_,\n",
    "                          verbose=False, step=1e-3,\n",
    "                          blocks_start=binarizer.feature_indices[:-1, ],\n",
    "                          blocks_length=binarizer.n_values)\n",
    "            for _ in range(K)]\n",
    "        auc = compute_score(learners, X_bin, y[:n_restrict_cv], K,\n",
    "                            verbose=False)[0]\n",
    "\n",
    "        avg_scores = np.append(avg_scores, max(auc, 1 - auc))\n",
    "\n",
    "        learner = LogisticRegression(penalty='binarsity', solver='svrg',\n",
    "                                C=C_, verbose=False, step=1e-3,\n",
    "                                blocks_start=binarizer.feature_indices[\n",
    "                                             :-1, ],\n",
    "                                blocks_length=binarizer.n_values)\n",
    "        learner.fit(X_bin, y[:n_restrict_cv])\n",
    "        y_pred = learner.predict_proba(X_test_bin)[:, 1]\n",
    "        auc = roc_auc_score(y_test[:n_restrict_cv], y_pred)\n",
    "        auc = max(auc, 1 - auc)\n",
    "        score_test.append(auc)\n",
    "\n",
    "    idx_best = np.unravel_index(avg_scores.argmax(),\n",
    "                                avg_scores.shape)[0]\n",
    "    C_best = C_grid[idx_best]\n",
    "    if selection == 'min':\n",
    "        C_chosen = C_best\n",
    "    if selection == '1st':\n",
    "        max_ = avg_scores.max()\n",
    "        min_ = avg_scores.min()\n",
    "        idx = [i for i, is_up in enumerate(\n",
    "            list(avg_scores >= max_ - .05 * (max_ - min_)))\n",
    "               if is_up]\n",
    "        idx_chosen = min(idx) if len(idx) > 0 else idx_best\n",
    "        C_chosen = C_grid[idx_chosen]\n",
    "\n",
    "    if verbose:\n",
    "        ## display learning curves\n",
    "        fig = pl.figure()\n",
    "        ax = fig.add_subplot(111)\n",
    "        pl.xscale('log')\n",
    "        ax.plot(C_grid, avg_scores, label=\"AUC on CV\")\n",
    "        ax.plot(C_grid, score_test , '-r', \n",
    "                label=\"AUC on Test\")\n",
    "        y_min = ax.get_ylim()[0]\n",
    "        ax.plot(C_best,y_min,'g^',ms=20, label=\"best C on CV\")\n",
    "        ax.plot(C_chosen,y_min,'r^',ms=20, label=\"C chosen\")\n",
    "        pl.suptitle(\"Learning curves\", fontsize=20, fontweight=\"bold\")\n",
    "        pl.xlabel(\"C\", fontsize=14)\n",
    "        pl.ylabel(\"AUC\", fontsize=14)\n",
    "        pl.legend(bbox_to_anchor=(1.1,1), loc=2, borderaxespad=0.,\n",
    "                  numpoints=1, markerscale=.5, fontsize=14)\n",
    "        pl.show()\n",
    "\n",
    "    X_final = X_cont\n",
    "    X_test_final = X_test_cont\n",
    "\n",
    "    binarizer = FeaturesBinarizer(n_cuts=n_cuts)\n",
    "    binarizer.fit(pd.concat([X_final, X_test_final], axis=0))\n",
    "    X_bin = binarizer.transform(X_final)\n",
    "    X_test_bin = binarizer.transform(X_test_final)\n",
    "\n",
    "    blocks_start = binarizer.feature_indices[:-1, ]\n",
    "    blocks_length = binarizer.n_values\n",
    "\n",
    "    start = time()\n",
    "    learner = LogisticRegression(penalty='binarsity', solver='svrg', C=C_chosen,\n",
    "                            verbose=False, step=1e-3,\n",
    "                            blocks_start=blocks_start,\n",
    "                            blocks_length=blocks_length)\n",
    "    start = time()\n",
    "    learner.fit(X_bin, y)\n",
    "    y_pred = learner.predict_proba(X_test_bin)[:, 1]\n",
    "\n",
    "    auc = roc_auc_score(y_test, y_pred)\n",
    "    auc = max(auc, 1 - auc)\n",
    "    AUC.append(auc)\n",
    "    times.append(time() - start)\n",
    "    \n",
    "    if verbose:\n",
    "        ## display coeff\n",
    "        coeffs = learner.weights\n",
    "        fig = pl.figure(figsize=(13,5))\n",
    "        ax = fig.add_subplot(111)\n",
    "        for val in blocks_start:\n",
    "            ax.axvline(val, color='g', linestyle='--') \n",
    "        pl.title(r\"$\\beta$ %s\" % model.replace('_',' '), \n",
    "                    fontsize=20, fontweight='bold')\n",
    "        ax.stem(coeffs, 'b', markerfmt='ob')\n",
    "\n",
    "        ax.set_xlim([-5, len(coeffs)+5])\n",
    "        pl.show()"
   ]
  },
  {
   "cell_type": "code",
   "execution_count": null,
   "metadata": {
    "collapsed": true
   },
   "outputs": [],
   "source": [
    "os.chdir('../../discretization_impact')\n",
    "np.save('./results/AUC-%s' % filename, AUC)\n",
    "np.save('./results/times-%s' % filename, times)\n",
    "np.save('./results/n_cuts_grid-%s' % filename, n_cuts_grid)"
   ]
  },
  {
   "cell_type": "code",
   "execution_count": 15,
   "metadata": {
    "collapsed": false
   },
   "outputs": [
    {
     "data": {
      "image/png": "[encoded data removed]",
      "text/plain": [
       "<matplotlib.figure.Figure at 0x11c7dc1d0>"
      ]
     },
     "metadata": {},
     "output_type": "display_data"
    }
   ],
   "source": [
    "from matplotlib import rc\n",
    "rc('font',**{'family':'sans-serif','sans-serif':['Helvetica']})\n",
    "rc('text', usetex=True)\n",
    "\n",
    "fig, ax1 = pl.subplots()\n",
    "\n",
    "ax1.plot(n_cuts_grid, AUC , '-xr')\n",
    "ax1.set_xlabel(\"$d_j$\", fontsize=14)\n",
    "ax1.set_ylabel(\"AUC\", fontsize=14)\n",
    "\n",
    "ax2 = ax1.twinx()\n",
    "ax2.plot(n_cuts_grid, times, '--xr')\n",
    "ax2.set_ylabel('time')\n",
    "\n",
    "ax1.set_xscale('log')\n",
    "\n",
    "fig.tight_layout()\n",
    "pl.show()"
   ]
  },
  {
   "cell_type": "code",
   "execution_count": null,
   "metadata": {
    "collapsed": true
   },
   "outputs": [],
   "source": []
  }
 ],
 "metadata": {
  "kernelspec": {
   "display_name": "Python 3",
   "language": "python",
   "name": "python3"
  },
  "language_info": {
   "codemirror_mode": {
    "name": "ipython",
    "version": 3
   },
   "file_extension": ".py",
   "mimetype": "text/x-python",
   "name": "python",
   "nbconvert_exporter": "python",
   "pygments_lexer": "ipython3",
   "version": "3.6.0"
  }
 },
 "nbformat": 4,
 "nbformat_minor": 2
}
