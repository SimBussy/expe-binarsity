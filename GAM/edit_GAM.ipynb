{
 "cells": [
  {
   "cell_type": "code",
   "execution_count": 1,
   "metadata": {
    "collapsed": false
   },
   "outputs": [],
   "source": [
    "import os\n",
    "import numpy as np\n",
    "import pandas as pd\n",
    "from sys import stdout, argv\n",
    "from time import time\n",
    "from matplotlib.ticker import FormatStrFormatter\n",
    "import pylab as pl\n",
    "import seaborn as sns\n",
    "import warnings\n",
    "warnings.filterwarnings('ignore')"
   ]
  },
  {
   "cell_type": "code",
   "execution_count": 2,
   "metadata": {
    "collapsed": false
   },
   "outputs": [],
   "source": [
    "filename = 'churn'\n",
    "test = False\n",
    "header = \"infer\"\n",
    "directory = 'results'\n",
    "os.chdir('./datasets/%s' % filename)\n",
    "#df = pd.read_csv('./%s' % filename, header=header)\n",
    "#df.head()"
   ]
  },
  {
   "cell_type": "code",
   "execution_count": 3,
   "metadata": {
    "collapsed": false
   },
   "outputs": [
    {
     "data": {
      "image/png": "[encoded data removed]",
      "text/plain": [
       "<matplotlib.figure.Figure at 0x11aced828>"
      ]
     },
     "metadata": {},
     "output_type": "display_data"
    },
    {
     "name": "stdout",
     "output_type": "stream",
     "text": [
      "Hyper-parameters chosen: \n",
      "lam = 200.00, \n",
      "n_splines=20\n"
     ]
    }
   ],
   "source": [
    "model = \"GAM\"\n",
    "scores = pd.DataFrame.from_csv(\"./%s/learning_curves/9-%s\" % (directory, model))\n",
    "pl.figure(figsize=(8, 7))\n",
    "ax = sns.heatmap(scores)\n",
    "pl.ylabel('lam', fontsize=15)\n",
    "pl.xlabel('n_splines', fontsize=15)\n",
    "pl.show()\n",
    "\n",
    "best_params = np.load('./%s/learning_curves/best_params_%s.npy' % (directory, model)).item()\n",
    "print(\"Hyper-parameters chosen: \\nlam = %.2f, \\nn_splines=%s\" \n",
    "     % (best_params.get('lam'), best_params.get('n_splines')))"
   ]
  },
  {
   "cell_type": "code",
   "execution_count": 4,
   "metadata": {
    "collapsed": false
   },
   "outputs": [
    {
     "name": "stdout",
     "output_type": "stream",
     "text": [
      "+-------+----------+-------+\n",
      "| Algos |   AUC    |  time |\n",
      "+-------+----------+-------+\n",
      "|  GAM  | 0.710311 | 3.307 |\n",
      "+-------+----------+-------+\n"
     ]
    }
   ],
   "source": [
    "results = open(\"./%s/results.txt\" % directory, \"r\")\n",
    "print(results.read())"
   ]
  },
  {
   "cell_type": "code",
   "execution_count": null,
   "metadata": {
    "collapsed": true
   },
   "outputs": [],
   "source": []
  }
 ],
 "metadata": {
  "kernelspec": {
   "display_name": "Python 3",
   "language": "python",
   "name": "python3"
  },
  "language_info": {
   "codemirror_mode": {
    "name": "ipython",
    "version": 3
   },
   "file_extension": ".py",
   "mimetype": "text/x-python",
   "name": "python",
   "nbconvert_exporter": "python",
   "pygments_lexer": "ipython3",
   "version": "3.6.0"
  }
 },
 "nbformat": 4,
 "nbformat_minor": 2
}
